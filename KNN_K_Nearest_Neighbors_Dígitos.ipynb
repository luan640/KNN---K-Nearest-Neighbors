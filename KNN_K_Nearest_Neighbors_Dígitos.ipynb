{
  "cells": [
    {
      "cell_type": "markdown",
      "metadata": {
        "id": "view-in-github",
        "colab_type": "text"
      },
      "source": [
        "<a href=\"https://colab.research.google.com/github/luan640/KNN---K-Nearest-Neighbors/blob/main/KNN_K_Nearest_Neighbors_D%C3%ADgitos.ipynb\" target=\"_parent\"><img src=\"https://colab.research.google.com/assets/colab-badge.svg\" alt=\"Open In Colab\"/></a>"
      ]
    },
    {
      "cell_type": "markdown",
      "metadata": {
        "id": "EN06uRpuWU97"
      },
      "source": [
        "## KNN - N Nearest Neighbors"
      ]
    },
    {
      "cell_type": "markdown",
      "metadata": {
        "id": "vGyp1yofWU-M"
      },
      "source": [
        "### Carregando a base de dados - Dígitos"
      ]
    },
    {
      "cell_type": "code",
      "source": [
        "import pandas as pd\n",
        "import seaborn as sns\n",
        "import matplotlib.pyplot as plt\n",
        "import numpy as np\n",
        "import warnings\n",
        "warnings.filterwarnings('ignore')\n",
        "%matplotlib inline"
      ],
      "metadata": {
        "id": "EHZxFl40axcR"
      },
      "execution_count": 1,
      "outputs": []
    },
    {
      "cell_type": "code",
      "execution_count": 3,
      "metadata": {
        "id": "MlIfW4RnWU-M"
      },
      "outputs": [],
      "source": [
        "# Import datasets, classifiers and performance metrics\n",
        "from sklearn import datasets, svm, metrics\n",
        "import matplotlib.pyplot as plt\n",
        "\n",
        "# The digits dataset\n",
        "digits = datasets.load_digits()"
      ]
    },
    {
      "cell_type": "markdown",
      "metadata": {
        "id": "zH3queejWU-M"
      },
      "source": [
        "### Descrição sobre a base de dados"
      ]
    },
    {
      "cell_type": "code",
      "execution_count": null,
      "metadata": {
        "id": "kCbCv9SxWU-M"
      },
      "outputs": [],
      "source": [
        "print(digits.DESCR)"
      ]
    },
    {
      "cell_type": "markdown",
      "metadata": {
        "id": "h6k4vZA4WU-N"
      },
      "source": [
        "### Visualizando os valores de dados"
      ]
    },
    {
      "cell_type": "code",
      "execution_count": 5,
      "metadata": {
        "collapsed": true,
        "colab": {
          "base_uri": "https://localhost:8080/"
        },
        "id": "rzHBeMXLWU-N",
        "outputId": "60e495cd-445f-4d1d-b4eb-a267803b1ebc"
      },
      "outputs": [
        {
          "output_type": "execute_result",
          "data": {
            "text/plain": [
              "array([[[ 0.,  0.,  5., ...,  1.,  0.,  0.],\n",
              "        [ 0.,  0., 13., ..., 15.,  5.,  0.],\n",
              "        [ 0.,  3., 15., ..., 11.,  8.,  0.],\n",
              "        ...,\n",
              "        [ 0.,  4., 11., ..., 12.,  7.,  0.],\n",
              "        [ 0.,  2., 14., ..., 12.,  0.,  0.],\n",
              "        [ 0.,  0.,  6., ...,  0.,  0.,  0.]],\n",
              "\n",
              "       [[ 0.,  0.,  0., ...,  5.,  0.,  0.],\n",
              "        [ 0.,  0.,  0., ...,  9.,  0.,  0.],\n",
              "        [ 0.,  0.,  3., ...,  6.,  0.,  0.],\n",
              "        ...,\n",
              "        [ 0.,  0.,  1., ...,  6.,  0.,  0.],\n",
              "        [ 0.,  0.,  1., ...,  6.,  0.,  0.],\n",
              "        [ 0.,  0.,  0., ..., 10.,  0.,  0.]],\n",
              "\n",
              "       [[ 0.,  0.,  0., ..., 12.,  0.,  0.],\n",
              "        [ 0.,  0.,  3., ..., 14.,  0.,  0.],\n",
              "        [ 0.,  0.,  8., ..., 16.,  0.,  0.],\n",
              "        ...,\n",
              "        [ 0.,  9., 16., ...,  0.,  0.,  0.],\n",
              "        [ 0.,  3., 13., ..., 11.,  5.,  0.],\n",
              "        [ 0.,  0.,  0., ..., 16.,  9.,  0.]],\n",
              "\n",
              "       ...,\n",
              "\n",
              "       [[ 0.,  0.,  1., ...,  1.,  0.,  0.],\n",
              "        [ 0.,  0., 13., ...,  2.,  1.,  0.],\n",
              "        [ 0.,  0., 16., ..., 16.,  5.,  0.],\n",
              "        ...,\n",
              "        [ 0.,  0., 16., ..., 15.,  0.,  0.],\n",
              "        [ 0.,  0., 15., ..., 16.,  0.,  0.],\n",
              "        [ 0.,  0.,  2., ...,  6.,  0.,  0.]],\n",
              "\n",
              "       [[ 0.,  0.,  2., ...,  0.,  0.,  0.],\n",
              "        [ 0.,  0., 14., ..., 15.,  1.,  0.],\n",
              "        [ 0.,  4., 16., ..., 16.,  7.,  0.],\n",
              "        ...,\n",
              "        [ 0.,  0.,  0., ..., 16.,  2.,  0.],\n",
              "        [ 0.,  0.,  4., ..., 16.,  2.,  0.],\n",
              "        [ 0.,  0.,  5., ..., 12.,  0.,  0.]],\n",
              "\n",
              "       [[ 0.,  0., 10., ...,  1.,  0.,  0.],\n",
              "        [ 0.,  2., 16., ...,  1.,  0.,  0.],\n",
              "        [ 0.,  0., 15., ..., 15.,  0.,  0.],\n",
              "        ...,\n",
              "        [ 0.,  4., 16., ..., 16.,  6.,  0.],\n",
              "        [ 0.,  8., 16., ..., 16.,  8.,  0.],\n",
              "        [ 0.,  1.,  8., ..., 12.,  1.,  0.]]])"
            ]
          },
          "metadata": {},
          "execution_count": 5
        }
      ],
      "source": [
        "digits.images"
      ]
    },
    {
      "cell_type": "markdown",
      "metadata": {
        "id": "PHNYEJCeWU-N"
      },
      "source": [
        "### Visualizando os valores de classes"
      ]
    },
    {
      "cell_type": "code",
      "execution_count": 6,
      "metadata": {
        "colab": {
          "base_uri": "https://localhost:8080/"
        },
        "id": "9oWM_mZcWU-N",
        "outputId": "b1c98e77-c01d-4985-acdf-751c6e58a0f5"
      },
      "outputs": [
        {
          "output_type": "execute_result",
          "data": {
            "text/plain": [
              "array([0, 1, 2, 3, 4, 5, 6, 7, 8, 9])"
            ]
          },
          "metadata": {},
          "execution_count": 6
        }
      ],
      "source": [
        "digits.target_names"
      ]
    },
    {
      "cell_type": "markdown",
      "metadata": {
        "id": "VxF9-R4RWU-N"
      },
      "source": [
        "### Visualizando as imagens e classes"
      ]
    },
    {
      "cell_type": "code",
      "execution_count": 7,
      "metadata": {
        "colab": {
          "base_uri": "https://localhost:8080/",
          "height": 264
        },
        "id": "JeYM6sIaWU-O",
        "outputId": "1bfe5f93-be7e-46f2-acf8-2e68e60ad3d3"
      },
      "outputs": [
        {
          "output_type": "display_data",
          "data": {
            "text/plain": [
              "<Figure size 432x288 with 10 Axes>"
            ],
            "image/png": "[encoded data removed]"
          },
          "metadata": {
            "needs_background": "light"
          }
        }
      ],
      "source": [
        "images_and_labels = list(zip(digits.images, digits.target))\n",
        "for index, (image, label) in enumerate(images_and_labels[:10]):\n",
        "    plt.subplot(3, 4, index + 1)\n",
        "    plt.axis('off')\n",
        "    plt.imshow(image, cmap=plt.cm.gray_r, interpolation='nearest')\n",
        "    plt.title('Training: %i' % label)"
      ]
    },
    {
      "cell_type": "markdown",
      "metadata": {
        "id": "dnzeL42AWU-O"
      },
      "source": [
        "### Convertendo os dados em Dataframe"
      ]
    },
    {
      "cell_type": "code",
      "execution_count": 8,
      "metadata": {
        "id": "KbWhGcyZWU-O"
      },
      "outputs": [],
      "source": [
        "n_samples = len(digits.images)\n",
        "data = digits.images.reshape((n_samples, -1))\n",
        "classe = digits.target"
      ]
    },
    {
      "cell_type": "code",
      "execution_count": 9,
      "metadata": {
        "id": "XpqVpfxPWU-O"
      },
      "outputs": [],
      "source": [
        "dataset = pd.DataFrame(data)\n",
        "dataset['classe'] = classe"
      ]
    },
    {
      "cell_type": "markdown",
      "source": [
        "### Cada coluna corresponde a cor do pixel do númeral e a coluna \"classe\" é o target."
      ],
      "metadata": {
        "id": "0ZLgh2IUeNe8"
      }
    },
    {
      "cell_type": "code",
      "execution_count": 10,
      "metadata": {
        "colab": {
          "base_uri": "https://localhost:8080/",
          "height": 235
        },
        "id": "eLCUJGpiWU-O",
        "outputId": "7d0994ae-f856-4b14-e87e-04286ed487c6"
      },
      "outputs": [
        {
          "output_type": "execute_result",
          "data": {
            "text/plain": [
              "     0    1    2     3     4     5    6    7    8    9  ...   55   56   57  \\\n",
              "0  0.0  0.0  5.0  13.0   9.0   1.0  0.0  0.0  0.0  0.0  ...  0.0  0.0  0.0   \n",
              "1  0.0  0.0  0.0  12.0  13.0   5.0  0.0  0.0  0.0  0.0  ...  0.0  0.0  0.0   \n",
              "2  0.0  0.0  0.0   4.0  15.0  12.0  0.0  0.0  0.0  0.0  ...  0.0  0.0  0.0   \n",
              "3  0.0  0.0  7.0  15.0  13.0   1.0  0.0  0.0  0.0  8.0  ...  0.0  0.0  0.0   \n",
              "4  0.0  0.0  0.0   1.0  11.0   0.0  0.0  0.0  0.0  0.0  ...  0.0  0.0  0.0   \n",
              "\n",
              "    58    59    60    61   62   63  classe  \n",
              "0  6.0  13.0  10.0   0.0  0.0  0.0       0  \n",
              "1  0.0  11.0  16.0  10.0  0.0  0.0       1  \n",
              "2  0.0   3.0  11.0  16.0  9.0  0.0       2  \n",
              "3  7.0  13.0  13.0   9.0  0.0  0.0       3  \n",
              "4  0.0   2.0  16.0   4.0  0.0  0.0       4  \n",
              "\n",
              "[5 rows x 65 columns]"
            ],
            "text/html": [
              "\n",
              "  <div id=\"df-93f78add-0854-415e-b69e-273dd253db10\">\n",
              "    <div class=\"colab-df-container\">\n",
              "      <div>\n",
              "<style scoped>\n",
              "    .dataframe tbody tr th:only-of-type {\n",
              "        vertical-align: middle;\n",
              "    }\n",
              "\n",
              "    .dataframe tbody tr th {\n",
              "        vertical-align: top;\n",
              "    }\n",
              "\n",
              "    .dataframe thead th {\n",
              "        text-align: right;\n",
              "    }\n",
              "</style>\n",
              "<table border=\"1\" class=\"dataframe\">\n",
              "  <thead>\n",
              "    <tr style=\"text-align: right;\">\n",
              "      <th></th>\n",
              "      <th>0</th>\n",
              "      <th>1</th>\n",
              "      <th>2</th>\n",
              "      <th>3</th>\n",
              "      <th>4</th>\n",
              "      <th>5</th>\n",
              "      <th>6</th>\n",
              "      <th>7</th>\n",
              "      <th>8</th>\n",
              "      <th>9</th>\n",
              "      <th>...</th>\n",
              "      <th>55</th>\n",
              "      <th>56</th>\n",
              "      <th>57</th>\n",
              "      <th>58</th>\n",
              "      <th>59</th>\n",
              "      <th>60</th>\n",
              "      <th>61</th>\n",
              "      <th>62</th>\n",
              "      <th>63</th>\n",
              "      <th>classe</th>\n",
              "    </tr>\n",
              "  </thead>\n",
              "  <tbody>\n",
              "    <tr>\n",
              "      <th>0</th>\n",
              "      <td>0.0</td>\n",
              "      <td>0.0</td>\n",
              "      <td>5.0</td>\n",
              "      <td>13.0</td>\n",
              "      <td>9.0</td>\n",
              "      <td>1.0</td>\n",
              "      <td>0.0</td>\n",
              "      <td>0.0</td>\n",
              "      <td>0.0</td>\n",
              "      <td>0.0</td>\n",
              "      <td>...</td>\n",
              "      <td>0.0</td>\n",
              "      <td>0.0</td>\n",
              "      <td>0.0</td>\n",
              "      <td>6.0</td>\n",
              "      <td>13.0</td>\n",
              "      <td>10.0</td>\n",
              "      <td>0.0</td>\n",
              "      <td>0.0</td>\n",
              "      <td>0.0</td>\n",
              "      <td>0</td>\n",
              "    </tr>\n",
              "    <tr>\n",
              "      <th>1</th>\n",
              "      <td>0.0</td>\n",
              "      <td>0.0</td>\n",
              "      <td>0.0</td>\n",
              "      <td>12.0</td>\n",
              "      <td>13.0</td>\n",
              "      <td>5.0</td>\n",
              "      <td>0.0</td>\n",
              "      <td>0.0</td>\n",
              "      <td>0.0</td>\n",
              "      <td>0.0</td>\n",
              "      <td>...</td>\n",
              "      <td>0.0</td>\n",
              "      <td>0.0</td>\n",
              "      <td>0.0</td>\n",
              "      <td>0.0</td>\n",
              "      <td>11.0</td>\n",
              "      <td>16.0</td>\n",
              "      <td>10.0</td>\n",
              "      <td>0.0</td>\n",
              "      <td>0.0</td>\n",
              "      <td>1</td>\n",
              "    </tr>\n",
              "    <tr>\n",
              "      <th>2</th>\n",
              "      <td>0.0</td>\n",
              "      <td>0.0</td>\n",
              "      <td>0.0</td>\n",
              "      <td>4.0</td>\n",
              "      <td>15.0</td>\n",
              "      <td>12.0</td>\n",
              "      <td>0.0</td>\n",
              "      <td>0.0</td>\n",
              "      <td>0.0</td>\n",
              "      <td>0.0</td>\n",
              "      <td>...</td>\n",
              "      <td>0.0</td>\n",
              "      <td>0.0</td>\n",
              "      <td>0.0</td>\n",
              "      <td>0.0</td>\n",
              "      <td>3.0</td>\n",
              "      <td>11.0</td>\n",
              "      <td>16.0</td>\n",
              "      <td>9.0</td>\n",
              "      <td>0.0</td>\n",
              "      <td>2</td>\n",
              "    </tr>\n",
              "    <tr>\n",
              "      <th>3</th>\n",
              "      <td>0.0</td>\n",
              "      <td>0.0</td>\n",
              "      <td>7.0</td>\n",
              "      <td>15.0</td>\n",
              "      <td>13.0</td>\n",
              "      <td>1.0</td>\n",
              "      <td>0.0</td>\n",
              "      <td>0.0</td>\n",
              "      <td>0.0</td>\n",
              "      <td>8.0</td>\n",
              "      <td>...</td>\n",
              "      <td>0.0</td>\n",
              "      <td>0.0</td>\n",
              "      <td>0.0</td>\n",
              "      <td>7.0</td>\n",
              "      <td>13.0</td>\n",
              "      <td>13.0</td>\n",
              "      <td>9.0</td>\n",
              "      <td>0.0</td>\n",
              "      <td>0.0</td>\n",
              "      <td>3</td>\n",
              "    </tr>\n",
              "    <tr>\n",
              "      <th>4</th>\n",
              "      <td>0.0</td>\n",
              "      <td>0.0</td>\n",
              "      <td>0.0</td>\n",
              "      <td>1.0</td>\n",
              "      <td>11.0</td>\n",
              "      <td>0.0</td>\n",
              "      <td>0.0</td>\n",
              "      <td>0.0</td>\n",
              "      <td>0.0</td>\n",
              "      <td>0.0</td>\n",
              "      <td>...</td>\n",
              "      <td>0.0</td>\n",
              "      <td>0.0</td>\n",
              "      <td>0.0</td>\n",
              "      <td>0.0</td>\n",
              "      <td>2.0</td>\n",
              "      <td>16.0</td>\n",
              "      <td>4.0</td>\n",
              "      <td>0.0</td>\n",
              "      <td>0.0</td>\n",
              "      <td>4</td>\n",
              "    </tr>\n",
              "  </tbody>\n",
              "</table>\n",
              "<p>5 rows × 65 columns</p>\n",
              "</div>\n",
              "      <button class=\"colab-df-convert\" onclick=\"convertToInteractive('df-93f78add-0854-415e-b69e-273dd253db10')\"\n",
              "              title=\"Convert this dataframe to an interactive table.\"\n",
              "              style=\"display:none;\">\n",
              "        \n",
              "  <svg xmlns=\"http://www.w3.org/2000/svg\" height=\"24px\"viewBox=\"0 0 24 24\"\n",
              "       width=\"24px\">\n",
              "    <path d=\"M0 0h24v24H0V0z\" fill=\"none\"/>\n",
              "    <path d=\"M18.56 5.44l.94 2.06.94-2.06 2.06-.94-2.06-.94-.94-2.06-.94 2.06-2.06.94zm-11 1L8.5 8.5l.94-2.06 2.06-.94-2.06-.94L8.5 2.5l-.94 2.06-2.06.94zm10 10l.94 2.06.94-2.06 2.06-.94-2.06-.94-.94-2.06-.94 2.06-2.06.94z\"/><path d=\"M17.41 7.96l-1.37-1.37c-.4-.4-.92-.59-1.43-.59-.52 0-1.04.2-1.43.59L10.3 9.45l-7.72 7.72c-.78.78-.78 2.05 0 2.83L4 21.41c.39.39.9.59 1.41.59.51 0 1.02-.2 1.41-.59l7.78-7.78 2.81-2.81c.8-.78.8-2.07 0-2.86zM5.41 20L4 18.59l7.72-7.72 1.47 1.35L5.41 20z\"/>\n",
              "  </svg>\n",
              "      </button>\n",
              "      \n",
              "  <style>\n",
              "    .colab-df-container {\n",
              "      display:flex;\n",
              "      flex-wrap:wrap;\n",
              "      gap: 12px;\n",
              "    }\n",
              "\n",
              "    .colab-df-convert {\n",
              "      background-color: #E8F0FE;\n",
              "      border: none;\n",
              "      border-radius: 50%;\n",
              "      cursor: pointer;\n",
              "      display: none;\n",
              "      fill: #1967D2;\n",
              "      height: 32px;\n",
              "      padding: 0 0 0 0;\n",
              "      width: 32px;\n",
              "    }\n",
              "\n",
              "    .colab-df-convert:hover {\n",
              "      background-color: #E2EBFA;\n",
              "      box-shadow: 0px 1px 2px rgba(60, 64, 67, 0.3), 0px 1px 3px 1px rgba(60, 64, 67, 0.15);\n",
              "      fill: #174EA6;\n",
              "    }\n",
              "\n",
              "    [theme=dark] .colab-df-convert {\n",
              "      background-color: #3B4455;\n",
              "      fill: #D2E3FC;\n",
              "    }\n",
              "\n",
              "    [theme=dark] .colab-df-convert:hover {\n",
              "      background-color: #434B5C;\n",
              "      box-shadow: 0px 1px 3px 1px rgba(0, 0, 0, 0.15);\n",
              "      filter: drop-shadow(0px 1px 2px rgba(0, 0, 0, 0.3));\n",
              "      fill: #FFFFFF;\n",
              "    }\n",
              "  </style>\n",
              "\n",
              "      <script>\n",
              "        const buttonEl =\n",
              "          document.querySelector('#df-93f78add-0854-415e-b69e-273dd253db10 button.colab-df-convert');\n",
              "        buttonEl.style.display =\n",
              "          google.colab.kernel.accessAllowed ? 'block' : 'none';\n",
              "\n",
              "        async function convertToInteractive(key) {\n",
              "          const element = document.querySelector('#df-93f78add-0854-415e-b69e-273dd253db10');\n",
              "          const dataTable =\n",
              "            await google.colab.kernel.invokeFunction('convertToInteractive',\n",
              "                                                     [key], {});\n",
              "          if (!dataTable) return;\n",
              "\n",
              "          const docLinkHtml = 'Like what you see? Visit the ' +\n",
              "            '<a target=\"_blank\" href=https://colab.research.google.com/notebooks/data_table.ipynb>data table notebook</a>'\n",
              "            + ' to learn more about interactive tables.';\n",
              "          element.innerHTML = '';\n",
              "          dataTable['output_type'] = 'display_data';\n",
              "          await google.colab.output.renderOutput(dataTable, element);\n",
              "          const docLink = document.createElement('div');\n",
              "          docLink.innerHTML = docLinkHtml;\n",
              "          element.appendChild(docLink);\n",
              "        }\n",
              "      </script>\n",
              "    </div>\n",
              "  </div>\n",
              "  "
            ]
          },
          "metadata": {},
          "execution_count": 10
        }
      ],
      "source": [
        "dataset.head()"
      ]
    },
    {
      "cell_type": "markdown",
      "metadata": {
        "id": "jckjeZTMWU-P"
      },
      "source": [
        "### Dividindo os dados em treino e teste"
      ]
    },
    {
      "cell_type": "code",
      "execution_count": 12,
      "metadata": {
        "id": "F2S_LV-pWU-P"
      },
      "outputs": [],
      "source": [
        "from sklearn.model_selection import train_test_split\n",
        "X_train, X_test, y_train, y_test = train_test_split(dataset.drop('classe',axis=1),dataset['classe'],test_size=0.3)"
      ]
    },
    {
      "cell_type": "markdown",
      "metadata": {
        "id": "AxjfLSXLWU-P"
      },
      "source": [
        "### Verificando a forma dos dados"
      ]
    },
    {
      "cell_type": "code",
      "execution_count": 13,
      "metadata": {
        "colab": {
          "base_uri": "https://localhost:8080/"
        },
        "id": "HdgNxKd3WU-P",
        "outputId": "954746a0-cdb9-4031-de2d-d498808957e2"
      },
      "outputs": [
        {
          "output_type": "execute_result",
          "data": {
            "text/plain": [
              "((1257, 64), (540, 64))"
            ]
          },
          "metadata": {},
          "execution_count": 13
        }
      ],
      "source": [
        "X_train.shape,X_test.shape"
      ]
    },
    {
      "cell_type": "code",
      "execution_count": 14,
      "metadata": {
        "colab": {
          "base_uri": "https://localhost:8080/"
        },
        "id": "CMuntEK7WU-P",
        "outputId": "edafe54c-5b7f-4550-f190-e60d8b4a1fd4"
      },
      "outputs": [
        {
          "output_type": "execute_result",
          "data": {
            "text/plain": [
              "((1257,), (540,))"
            ]
          },
          "metadata": {},
          "execution_count": 14
        }
      ],
      "source": [
        "y_train.shape,y_test.shape"
      ]
    },
    {
      "cell_type": "markdown",
      "metadata": {
        "id": "rzvCMoZmWU-Q"
      },
      "source": [
        "### Instânciando o algoritmo KNN\n",
        "#### n_neighbors = valor de k, normalmente é feito uma análise para encontrar um melhor valor para esse parâmetro. Mais na frente será feito essa análise. Porntando para esse passo o valor n_neighbors=3 foi apenas para seguir com o modelo."
      ]
    },
    {
      "cell_type": "code",
      "execution_count": 15,
      "metadata": {
        "id": "yyD4jkTjWU-Q"
      },
      "outputs": [],
      "source": [
        "from sklearn.neighbors import KNeighborsClassifier\n",
        "knn = KNeighborsClassifier(n_neighbors=3)"
      ]
    },
    {
      "cell_type": "markdown",
      "metadata": {
        "id": "VJTHBehFWU-Q"
      },
      "source": [
        "### Treinando o algoritmo "
      ]
    },
    {
      "cell_type": "code",
      "execution_count": 16,
      "metadata": {
        "colab": {
          "base_uri": "https://localhost:8080/"
        },
        "id": "LJMFMCuKWU-Q",
        "outputId": "58d38ccf-8e72-4ec7-9b18-1ebd1c549340"
      },
      "outputs": [
        {
          "output_type": "execute_result",
          "data": {
            "text/plain": [
              "KNeighborsClassifier(n_neighbors=3)"
            ]
          },
          "metadata": {},
          "execution_count": 16
        }
      ],
      "source": [
        "knn.fit(X_train,y_train)"
      ]
    },
    {
      "cell_type": "markdown",
      "metadata": {
        "id": "m_J1xfchWU-Q"
      },
      "source": [
        "### Predizendo novos pontos "
      ]
    },
    {
      "cell_type": "code",
      "execution_count": 18,
      "metadata": {
        "id": "SzAVxFkSWU-Q",
        "colab": {
          "base_uri": "https://localhost:8080/"
        },
        "outputId": "ada7582c-7597-4d58-b991-c54f49a535bf"
      },
      "outputs": [
        {
          "output_type": "execute_result",
          "data": {
            "text/plain": [
              "array([5, 6, 9, 1, 0, 5, 6, 9, 1, 7, 3, 1, 3, 0, 3, 8, 1, 1, 2, 3, 9, 9,\n",
              "       2, 5, 1, 7, 6, 9, 3, 8, 3, 0, 1, 7, 2, 2, 0, 1, 0, 7, 8, 1, 7, 9,\n",
              "       6, 5, 4, 3, 8, 2, 3, 9, 4, 9, 5, 9, 5, 2, 7, 9, 4, 4, 8, 9, 7, 0,\n",
              "       8, 8, 7, 7, 1, 6, 0, 4, 5, 5, 0, 9, 7, 0, 1, 2, 4, 3, 9, 9, 1, 5,\n",
              "       2, 2, 5, 3, 5, 4, 6, 5, 2, 7, 2, 3, 2, 7, 0, 2, 9, 3, 1, 0, 5, 1,\n",
              "       9, 5, 3, 5, 1, 1, 1, 5, 8, 1, 2, 1, 5, 2, 0, 5, 5, 7, 6, 4, 2, 4,\n",
              "       1, 3, 8, 5, 4, 9, 5, 5, 1, 4, 6, 0, 8, 2, 5, 5, 5, 9, 8, 3, 6, 9,\n",
              "       1, 2, 9, 3, 5, 6, 0, 1, 2, 3, 9, 3, 0, 7, 3, 9, 2, 1, 1, 7, 7, 3,\n",
              "       6, 8, 5, 8, 6, 3, 4, 6, 8, 3, 4, 0, 3, 1, 2, 6, 6, 3, 6, 7, 9, 0,\n",
              "       6, 1, 0, 2, 3, 9, 0, 8, 3, 0, 3, 7, 7, 2, 5, 6, 6, 1, 3, 2, 5, 9,\n",
              "       6, 8, 9, 8, 8, 7, 4, 0, 5, 4, 1, 3, 5, 0, 1, 0, 9, 5, 1, 1, 2, 4,\n",
              "       4, 2, 4, 1, 9, 4, 2, 3, 6, 3, 6, 5, 2, 3, 8, 3, 4, 8, 4, 7, 7, 7,\n",
              "       5, 6, 2, 6, 6, 7, 1, 7, 6, 9, 2, 2, 4, 3, 2, 7, 4, 1, 8, 6, 0, 5,\n",
              "       2, 1, 6, 0, 8, 1, 4, 3, 4, 7, 6, 4, 3, 4, 5, 7, 4, 8, 2, 9, 7, 1,\n",
              "       3, 7, 8, 3, 6, 3, 5, 3, 7, 4, 3, 8, 7, 5, 5, 3, 3, 7, 4, 1, 4, 7,\n",
              "       5, 4, 8, 7, 3, 2, 2, 0, 7, 5, 8, 6, 3, 3, 6, 1, 0, 9, 9, 9, 7, 4,\n",
              "       9, 1, 8, 9, 4, 3, 2, 3, 2, 8, 7, 6, 7, 4, 8, 2, 0, 6, 8, 7, 6, 4,\n",
              "       8, 9, 5, 0, 8, 2, 0, 6, 8, 1, 9, 6, 2, 2, 1, 4, 7, 1, 3, 0, 7, 4,\n",
              "       1, 3, 1, 4, 5, 8, 9, 5, 2, 7, 4, 0, 3, 3, 8, 2, 0, 6, 5, 5, 3, 8,\n",
              "       0, 8, 5, 8, 1, 4, 7, 1, 6, 0, 2, 5, 3, 1, 5, 0, 7, 1, 6, 4, 0, 8,\n",
              "       9, 3, 9, 6, 1, 0, 8, 4, 8, 0, 1, 5, 8, 9, 3, 0, 7, 0, 4, 0, 7, 2,\n",
              "       3, 1, 0, 7, 8, 9, 1, 7, 8, 2, 0, 5, 4, 9, 7, 3, 9, 8, 1, 4, 2, 4,\n",
              "       0, 8, 6, 8, 2, 0, 8, 4, 1, 0, 0, 3, 9, 3, 2, 0, 0, 6, 6, 3, 3, 1,\n",
              "       4, 6, 8, 5, 9, 3, 1, 3, 2, 7, 5, 9, 8, 4, 6, 4, 2, 6, 8, 9, 9, 2,\n",
              "       8, 6, 1, 8, 8, 6, 5, 8, 5, 9, 5, 5])"
            ]
          },
          "metadata": {},
          "execution_count": 18
        }
      ],
      "source": [
        "resultado = knn.predict(X_test)\n",
        "resultado"
      ]
    },
    {
      "cell_type": "markdown",
      "metadata": {
        "id": "k71TrtqMWU-R"
      },
      "source": [
        "## Técnicas de Validação"
      ]
    },
    {
      "cell_type": "markdown",
      "metadata": {
        "id": "Mdmw-HuWWU-R"
      },
      "source": [
        "### Metricas de classificação\n",
        "#### Percentual de precisão dos acertos."
      ]
    },
    {
      "cell_type": "code",
      "execution_count": 19,
      "metadata": {
        "scrolled": true,
        "colab": {
          "base_uri": "https://localhost:8080/"
        },
        "id": "tPyBnoz1WU-R",
        "outputId": "28da9d71-7801-4720-8c86-af59aa9439e2"
      },
      "outputs": [
        {
          "output_type": "stream",
          "name": "stdout",
          "text": [
            "              precision    recall  f1-score   support\n",
            "\n",
            "           0       1.00      1.00      1.00        50\n",
            "           1       0.97      1.00      0.98        57\n",
            "           2       0.98      1.00      0.99        52\n",
            "           3       0.95      0.98      0.97        62\n",
            "           4       1.00      0.98      0.99        52\n",
            "           5       0.98      0.98      0.98        57\n",
            "           6       1.00      1.00      1.00        49\n",
            "           7       0.98      1.00      0.99        50\n",
            "           8       0.98      0.93      0.96        59\n",
            "           9       0.96      0.92      0.94        52\n",
            "\n",
            "    accuracy                           0.98       540\n",
            "   macro avg       0.98      0.98      0.98       540\n",
            "weighted avg       0.98      0.98      0.98       540\n",
            "\n"
          ]
        }
      ],
      "source": [
        "from sklearn import metrics\n",
        "print(metrics.classification_report(y_test,resultado))"
      ]
    },
    {
      "cell_type": "markdown",
      "metadata": {
        "id": "mYu_kyVuWU-R"
      },
      "source": [
        "### Matriz de Confusão\n",
        "#### Para demostrar a confusão entre as classes do target. Por exemplo: O target 0 não foi confundido com nenhuma outra classe. Ja o target 3 foi confundido com o target 7, apenas 1 vez. Assim sucessivamente."
      ]
    },
    {
      "cell_type": "code",
      "execution_count": 20,
      "metadata": {
        "scrolled": false,
        "colab": {
          "base_uri": "https://localhost:8080/"
        },
        "id": "wexRhE77WU-R",
        "outputId": "af3ff761-5982-4164-81ba-76e5c0a8e305"
      },
      "outputs": [
        {
          "output_type": "stream",
          "name": "stdout",
          "text": [
            "          Predito   0   1   2   3   4   5   6   7   8   9  All\n",
            "Real                                                          \n",
            "0                  50   0   0   0   0   0   0   0   0   0   50\n",
            "1                   0  57   0   0   0   0   0   0   0   0   57\n",
            "2                   0   0  52   0   0   0   0   0   0   0   52\n",
            "3                   0   0   0  61   0   0   0   1   0   0   62\n",
            "4                   0   0   0   0  51   0   0   0   0   1   52\n",
            "5                   0   0   0   0   0  56   0   0   0   1   57\n",
            "6                   0   0   0   0   0   0  49   0   0   0   49\n",
            "7                   0   0   0   0   0   0   0  50   0   0   50\n",
            "8                   0   2   1   1   0   0   0   0  55   0   59\n",
            "9                   0   0   0   2   0   1   0   0   1  48   52\n",
            "All                50  59  53  64  51  57  49  51  56  50  540\n"
          ]
        }
      ],
      "source": [
        "print (pd.crosstab(y_test,resultado, rownames=['Real'], colnames=['          Predito'], margins=True))"
      ]
    },
    {
      "cell_type": "markdown",
      "metadata": {
        "id": "3qOr9VSdWU-R"
      },
      "source": [
        "### Cross Validation"
      ]
    },
    {
      "cell_type": "code",
      "execution_count": null,
      "metadata": {
        "colab": {
          "base_uri": "https://localhost:8080/"
        },
        "id": "5C7omj_1WU-S",
        "outputId": "66a3922a-61b0-4db7-e5d8-1a16a5115c4e"
      },
      "outputs": [
        {
          "output_type": "execute_result",
          "data": {
            "text/plain": [
              "array([0.95555556, 0.95833333, 0.96657382, 0.98607242, 0.96657382])"
            ]
          },
          "metadata": {},
          "execution_count": 40
        }
      ],
      "source": [
        "from sklearn.model_selection import cross_val_score\n",
        "scores = cross_val_score(knn, dataset.drop('classe',axis=1),dataset['classe'], cv=5)\n",
        "scores"
      ]
    },
    {
      "cell_type": "markdown",
      "metadata": {
        "id": "lyLCixe3WU-S"
      },
      "source": [
        "## Otimizando o Parametro K"
      ]
    },
    {
      "cell_type": "markdown",
      "metadata": {
        "id": "iaBBvYmVWU-S"
      },
      "source": [
        "### Importando o GridSearch"
      ]
    },
    {
      "cell_type": "code",
      "execution_count": 21,
      "metadata": {
        "id": "i2u0VX3CWU-S"
      },
      "outputs": [],
      "source": [
        "from sklearn.model_selection import GridSearchCV"
      ]
    },
    {
      "cell_type": "markdown",
      "metadata": {
        "id": "DUoPQyIIWU-S"
      },
      "source": [
        "### Definindo a lista de valores para o parametro "
      ]
    },
    {
      "cell_type": "code",
      "execution_count": 22,
      "metadata": {
        "id": "aQ4H6xZIWU-S"
      },
      "outputs": [],
      "source": [
        "#criando uma lista de 1 a 31\n",
        "k_list = list(range(1,31))"
      ]
    },
    {
      "cell_type": "code",
      "execution_count": 23,
      "metadata": {
        "colab": {
          "base_uri": "https://localhost:8080/"
        },
        "id": "1zUoOA-MWU-T",
        "outputId": "11041ad2-03d8-45a4-cc24-7bda9e333863"
      },
      "outputs": [
        {
          "output_type": "execute_result",
          "data": {
            "text/plain": [
              "{'n_neighbors': [1,\n",
              "  2,\n",
              "  3,\n",
              "  4,\n",
              "  5,\n",
              "  6,\n",
              "  7,\n",
              "  8,\n",
              "  9,\n",
              "  10,\n",
              "  11,\n",
              "  12,\n",
              "  13,\n",
              "  14,\n",
              "  15,\n",
              "  16,\n",
              "  17,\n",
              "  18,\n",
              "  19,\n",
              "  20,\n",
              "  21,\n",
              "  22,\n",
              "  23,\n",
              "  24,\n",
              "  25,\n",
              "  26,\n",
              "  27,\n",
              "  28,\n",
              "  29,\n",
              "  30]}"
            ]
          },
          "metadata": {},
          "execution_count": 23
        }
      ],
      "source": [
        "k_values = dict(n_neighbors=k_list)\n",
        "k_values"
      ]
    },
    {
      "cell_type": "markdown",
      "metadata": {
        "id": "-zxU8pqFWU-T"
      },
      "source": [
        "### Instânciando o objeto GridSearch"
      ]
    },
    {
      "cell_type": "code",
      "execution_count": 24,
      "metadata": {
        "id": "BaJ0n2oUWU-T"
      },
      "outputs": [],
      "source": [
        "#especificar o tipo de algoritimo, n_neighbors, cv e o tipo de scoring que queremos ver. Normalmente o cv é usado como 5.\n",
        "grid = GridSearchCV(knn, k_values, cv=5, scoring='accuracy')"
      ]
    },
    {
      "cell_type": "markdown",
      "metadata": {
        "id": "d7XvkQQkWU-T"
      },
      "source": [
        "### Treinando o objeto"
      ]
    },
    {
      "cell_type": "code",
      "execution_count": 25,
      "metadata": {
        "scrolled": true,
        "colab": {
          "base_uri": "https://localhost:8080/"
        },
        "id": "Rs2wKCzwWU-T",
        "outputId": "129654ba-7862-4491-d3d3-961ca3458e5a"
      },
      "outputs": [
        {
          "output_type": "execute_result",
          "data": {
            "text/plain": [
              "GridSearchCV(cv=5, estimator=KNeighborsClassifier(n_neighbors=3),\n",
              "             param_grid={'n_neighbors': [1, 2, 3, 4, 5, 6, 7, 8, 9, 10, 11, 12,\n",
              "                                         13, 14, 15, 16, 17, 18, 19, 20, 21, 22,\n",
              "                                         23, 24, 25, 26, 27, 28, 29, 30]},\n",
              "             scoring='accuracy')"
            ]
          },
          "metadata": {},
          "execution_count": 25
        }
      ],
      "source": [
        "grid.fit(dataset.drop('classe',axis=1),dataset['classe'])"
      ]
    },
    {
      "cell_type": "markdown",
      "metadata": {
        "id": "YS_icZpcWU-T"
      },
      "source": [
        "### Visualizando os valores de scores e rankeando qual o melhor"
      ]
    },
    {
      "cell_type": "code",
      "execution_count": 40,
      "metadata": {
        "colab": {
          "base_uri": "https://localhost:8080/"
        },
        "id": "BJWKEg22WU-U",
        "outputId": "18474147-8139-4157-c9ff-7fa0f65dd4f7"
      },
      "outputs": [
        {
          "output_type": "stream",
          "name": "stdout",
          "text": [
            "Melhor valor de k = {'n_neighbors': 2} com o valor 0.9671711544413494 de acurácia\n"
          ]
        }
      ],
      "source": [
        "grid.cv_results_\n",
        "print(\"Melhor valor de k = {} com o valor {} de acurácia\".format(grid.best_params_,grid.best_score_))"
      ]
    },
    {
      "cell_type": "markdown",
      "metadata": {
        "id": "zrRq3dUKWU-U"
      },
      "source": [
        "### Visualização dos valores de K e acurácia"
      ]
    },
    {
      "cell_type": "code",
      "source": [
        "grid.cv_results_['mean_test_score']"
      ],
      "metadata": {
        "colab": {
          "base_uri": "https://localhost:8080/"
        },
        "id": "7Gx11m7RkfX3",
        "outputId": "3243262e-4f7e-4543-cbbb-34d044361a8e"
      },
      "execution_count": 53,
      "outputs": [
        {
          "output_type": "execute_result",
          "data": {
            "text/plain": [
              "array([0.96439338, 0.96717115, 0.96662179, 0.96384092, 0.96272826,\n",
              "       0.95938564, 0.95994584, 0.95827608, 0.95661096, 0.95494274,\n",
              "       0.9554983 , 0.95660786, 0.95549675, 0.95605076, 0.9549381 ,\n",
              "       0.95438409, 0.95326679, 0.94937481, 0.95048437, 0.94992881,\n",
              "       0.94881925, 0.94937635, 0.94770814, 0.94882389, 0.94548128,\n",
              "       0.94548282, 0.94380997, 0.94324977, 0.94102755, 0.94102445])"
            ]
          },
          "metadata": {},
          "execution_count": 53
        }
      ]
    },
    {
      "cell_type": "markdown",
      "source": [
        "### Curva com os valores de k que melhor se adequa ao modelo. No caso o valor de k é 2."
      ],
      "metadata": {
        "id": "kCzNisGvlGAa"
      }
    },
    {
      "cell_type": "code",
      "execution_count": 56,
      "metadata": {
        "id": "SpDJMFPCWU-U",
        "colab": {
          "base_uri": "https://localhost:8080/",
          "height": 388
        },
        "outputId": "987f7a63-df54-4b27-fe25-8ebb6a76ef9a"
      },
      "outputs": [
        {
          "output_type": "display_data",
          "data": {
            "text/plain": [
              "<Figure size 720x432 with 1 Axes>"
            ],
            "image/png": "[encoded data removed]"
          },
          "metadata": {
            "needs_background": "light"
          }
        }
      ],
      "source": [
        "scores=[]\n",
        "for score in grid.cv_results_['mean_test_score']:\n",
        "    scores.append(score)\n",
        "\n",
        "plt.figure(figsize=(10,6))\n",
        "plt.plot(k_list,scores,color='red',linestyle='dashed',marker='o')\n",
        "plt.xlabel('k')\n",
        "plt.ylabel('accuracy')\n",
        "plt.show()"
      ]
    }
  ],
  "metadata": {
    "kernelspec": {
      "display_name": "Python 3",
      "language": "python",
      "name": "python3"
    },
    "language_info": {
      "codemirror_mode": {
        "name": "ipython",
        "version": 3
      },
      "file_extension": ".py",
      "mimetype": "text/x-python",
      "name": "python",
      "nbconvert_exporter": "python",
      "pygments_lexer": "ipython3",
      "version": "3.6.5"
    },
    "colab": {
      "provenance": [],
      "collapsed_sections": [],
      "include_colab_link": true
    }
  },
  "nbformat": 4,
  "nbformat_minor": 0
}